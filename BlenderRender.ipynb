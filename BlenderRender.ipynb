{
  "nbformat": 4,
  "nbformat_minor": 0,
  "metadata": {
    "colab": {
      "provenance": [],
      "authorship_tag": "ABX9TyNL49pAyj9cUQramIuPmyj/",
      "include_colab_link": true
    },
    "kernelspec": {
      "name": "python3",
      "display_name": "Python 3"
    },
    "language_info": {
      "name": "python"
    }
  },
  "cells": [
    {
      "cell_type": "markdown",
      "metadata": {
        "id": "view-in-github",
        "colab_type": "text"
      },
      "source": [
        "<a href=\"https://colab.research.google.com/github/Rikz1411/blenderGoogleGPU/blob/main/BlenderRender.ipynb\" target=\"_parent\"><img src=\"https://colab.research.google.com/assets/colab-badge.svg\" alt=\"Open In Colab\"/></a>"
      ]
    },
    {
      "cell_type": "code",
      "source": [
        "import os\n",
        "\n",
        "def find(name, path):\n",
        "    for root, dirs, files in os.walk(path):\n",
        "        if name in files:\n",
        "            return os.path.join(os.path.relpath(root,start = os.curdir), name)\n",
        "     "
      ],
      "metadata": {
        "id": "Byb-BPZSO2gY"
      },
      "execution_count": null,
      "outputs": []
    },
    {
      "cell_type": "code",
      "source": [
        "#Connect Google Drive to Google Colab\n",
        "#=====================================\n",
        "from google.colab import drive\n",
        "drive.mount('/content/drive')"
      ],
      "metadata": {
        "id": "_zBo_q-cO4US"
      },
      "execution_count": null,
      "outputs": []
    },
    {
      "cell_type": "code",
      "source": [
        "#Download Blender 3.4 from Blender Repository (Must be Blender 3.4 or higher). \n",
        "#Other Versions are here: https://download.blender.org/release/\n",
        "#=====================================\n",
        "!wget https://builder.blender.org/download/daily/blender-3.4.0-alpha+master.5a90bbf71675-linux.x86_64-release.tar.xz -O BlenderDownload.tar.xz\n",
        "     "
      ],
      "metadata": {
        "id": "g9_YyScCPF7n"
      },
      "execution_count": null,
      "outputs": []
    },
    {
      "cell_type": "code",
      "source": [
        "#Use these commands to move Blender zip file to Google Drive and then back to working directory so you don't have to download Blender each time\n",
        "\n",
        "#Copy Blender Zip File to Google Drive (once downloaded) - Change file name to match the Blender version downloaded\n",
        "#=====================================\n",
        "#!cp /content/BlenderDownload.tar.xz /content/drive/MyDrive/Blender/BlenderDownload.tar.xz\n",
        "\n",
        "#Copy Blender Zip File from Google Drive\n",
        "#=====================================\n",
        "!cp /content/drive/MyDrive/Blender/BlenderDownload.tar.xz /content/BlenderDownload.tar.xz"
      ],
      "metadata": {
        "id": "eGdNPFNnPOp8"
      },
      "execution_count": null,
      "outputs": []
    },
    {
      "cell_type": "code",
      "source": [
        "#Unzip Blender (change file name to match downloaded version)\n",
        "#=====================================\n",
        "#!mkdir Blender\n",
        "!tar xf /content/BlenderDownload.tar.xz\n"
      ],
      "metadata": {
        "id": "96HP7vW7PReb"
      },
      "execution_count": null,
      "outputs": []
    },
    {
      "cell_type": "code",
      "source": [
        "blender_path = find('blender', '/content/')\n",
        "print(blender_path)"
      ],
      "metadata": {
        "id": "e-JGSws4PTqz"
      },
      "execution_count": null,
      "outputs": []
    },
    {
      "cell_type": "code",
      "source": [
        "#Path of Blender File to be Rendered (change path to your Blender file)\n",
        "#===========================\n",
        "filename = '/content/drive/MyDrive/forest.blend'"
      ],
      "metadata": {
        "id": "3jcm1zTTPWwA"
      },
      "execution_count": null,
      "outputs": []
    },
    {
      "cell_type": "code",
      "source": [],
      "metadata": {
        "id": "djrqy2cFQTGt"
      },
      "execution_count": null,
      "outputs": []
    }
  ]
}